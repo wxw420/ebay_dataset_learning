{
 "cells": [
  {
   "cell_type": "code",
   "execution_count": 38,
   "metadata": {
    "collapsed": false
   },
   "outputs": [],
   "source": [
    "import pandas as pd\n",
    "from pandas import DataFrame\n",
    "import numpy as np\n",
    "import matplotlib.pyplot as plt\n",
    "from sklearn.preprocessing import StandardScaler\n",
    "from sklearn import tree\n",
    "from sklearn.metrics import (precision_score, recall_score, f1_score)\n",
    "from sklearn.model_selection import GridSearchCV\n",
    "from sklearn.model_selection import train_test_split\n",
    "from sklearn.metrics import classification_report"
   ]
  },
  {
   "cell_type": "code",
   "execution_count": 39,
   "metadata": {
    "collapsed": true
   },
   "outputs": [],
   "source": [
    "test_set = pd.read_csv('raw/TestSet.csv')\n",
    "train_set = pd.read_csv('raw/TrainingSet.csv')\n",
    "test_subset = pd.read_csv('raw/TestSubset.csv')\n",
    "train_subset = pd.read_csv('raw/TrainingSubset.csv')"
   ]
  },
  {
   "cell_type": "code",
   "execution_count": 40,
   "metadata": {
    "collapsed": false
   },
   "outputs": [],
   "source": [
    "#将数据中无用的特征和该数据的标签提取出来\n",
    "train=train_set.drop(['EbayID','QuantitySold','SellerName'],axis=1)\n",
    "train_target=train_set['QuantitySold']\n",
    "\n",
    "test = test_set.drop(['EbayID','QuantitySold','SellerName'],axis=1)\n",
    "test_target = test_set['QuantitySold']\n",
    "\n",
    "#将训练数据以及测试数据进行归一化\n",
    "scaler = StandardScaler()\n",
    "train = scaler.fit_transform(train)\n",
    "test = scaler.fit_transform(test)"
   ]
  },
  {
   "cell_type": "code",
   "execution_count": 41,
   "metadata": {
    "collapsed": true
   },
   "outputs": [],
   "source": [
    "#使用CART对问题进行分类\n",
    "clf=tree.DecisionTreeClassifier(criterion=\"gini\",max_depth=6,min_samples_leaf=5)\n",
    "clf=clf.fit(train,train_target)"
   ]
  },
  {
   "cell_type": "code",
   "execution_count": 23,
   "metadata": {
    "collapsed": false
   },
   "outputs": [
    {
     "name": "stdout",
     "output_type": "stream",
     "text": [
      "DecisionTreeClassifier training performance on testing dataset:\n",
      "\tPrecision: 0.826 \n",
      "\tRecall: 0.726\n",
      "\tF1: 0.773 \n",
      "\n",
      "\tscore: 1.000 \n",
      "\n"
     ]
    }
   ],
   "source": [
    "\n",
    "test_pred = clf.predict(test) \n",
    "\n",
    "print(\"DecisionTreeClassifier training performance on testing dataset:\" )\n",
    "print(\"\\tPrecision: %1.3f \" % precision_score(test_target, test_pred))\n",
    "print(\"\\tRecall: %1.3f\" % recall_score(test_target, test_pred))\n",
    "print(\"\\tF1: %1.3f \\n\" % f1_score(test_target, test_pred))\n",
    "print(\"\\tscore: %1.3f \\n\" % clf.score(test , test_pred))"
   ]
  },
  {
   "cell_type": "code",
   "execution_count": 42,
   "metadata": {
    "collapsed": false
   },
   "outputs": [
    {
     "name": "stdout",
     "output_type": "stream",
     "text": [
      "# Tuning hyper-parameters for precision\n",
      "()\n",
      "Best parameters set found on development set:\n",
      "()\n",
      "{'criterion': 'gini', 'max_depth': 5, 'min_samples_leaf': 1}\n",
      "0.820 (+/-0.005) for {'criterion': 'gini', 'max_depth': 1, 'min_samples_leaf': 1}\n",
      "0.820 (+/-0.005) for {'criterion': 'gini', 'max_depth': 1, 'min_samples_leaf': 2}\n",
      "0.820 (+/-0.005) for {'criterion': 'gini', 'max_depth': 1, 'min_samples_leaf': 5}\n",
      "0.857 (+/-0.005) for {'criterion': 'gini', 'max_depth': 3, 'min_samples_leaf': 1}\n",
      "0.857 (+/-0.005) for {'criterion': 'gini', 'max_depth': 3, 'min_samples_leaf': 2}\n",
      "0.857 (+/-0.005) for {'criterion': 'gini', 'max_depth': 3, 'min_samples_leaf': 5}\n",
      "0.876 (+/-0.006) for {'criterion': 'gini', 'max_depth': 5, 'min_samples_leaf': 1}\n",
      "0.876 (+/-0.006) for {'criterion': 'gini', 'max_depth': 5, 'min_samples_leaf': 2}\n",
      "0.876 (+/-0.006) for {'criterion': 'gini', 'max_depth': 5, 'min_samples_leaf': 5}\n",
      "0.815 (+/-0.013) for {'criterion': 'entropy', 'max_depth': 1, 'min_samples_leaf': 1}\n",
      "0.815 (+/-0.013) for {'criterion': 'entropy', 'max_depth': 1, 'min_samples_leaf': 2}\n",
      "0.815 (+/-0.013) for {'criterion': 'entropy', 'max_depth': 1, 'min_samples_leaf': 5}\n",
      "0.872 (+/-0.005) for {'criterion': 'entropy', 'max_depth': 3, 'min_samples_leaf': 1}\n",
      "0.872 (+/-0.005) for {'criterion': 'entropy', 'max_depth': 3, 'min_samples_leaf': 2}\n",
      "0.872 (+/-0.005) for {'criterion': 'entropy', 'max_depth': 3, 'min_samples_leaf': 5}\n",
      "0.876 (+/-0.012) for {'criterion': 'entropy', 'max_depth': 5, 'min_samples_leaf': 1}\n",
      "0.876 (+/-0.012) for {'criterion': 'entropy', 'max_depth': 5, 'min_samples_leaf': 2}\n",
      "0.876 (+/-0.012) for {'criterion': 'entropy', 'max_depth': 5, 'min_samples_leaf': 5}\n",
      "()\n",
      "Detailed classification report:\n",
      "()\n",
      "The model is trained on the full development set.\n",
      "The scores are computed on the full evaluation set.\n",
      "()\n",
      "             precision    recall  f1-score   support\n",
      "\n",
      "          0       0.92      0.94      0.93     28061\n",
      "          1       0.80      0.74      0.77      9399\n",
      "\n",
      "avg / total       0.89      0.89      0.89     37460\n",
      "\n",
      "()\n",
      "# Tuning hyper-parameters for recall\n",
      "()\n",
      "Best parameters set found on development set:\n",
      "()\n",
      "{'criterion': 'gini', 'max_depth': 5, 'min_samples_leaf': 1}\n",
      "0.795 (+/-0.014) for {'criterion': 'gini', 'max_depth': 1, 'min_samples_leaf': 1}\n",
      "0.795 (+/-0.014) for {'criterion': 'gini', 'max_depth': 1, 'min_samples_leaf': 2}\n",
      "0.795 (+/-0.014) for {'criterion': 'gini', 'max_depth': 1, 'min_samples_leaf': 5}\n",
      "0.832 (+/-0.011) for {'criterion': 'gini', 'max_depth': 3, 'min_samples_leaf': 1}\n",
      "0.832 (+/-0.011) for {'criterion': 'gini', 'max_depth': 3, 'min_samples_leaf': 2}\n",
      "0.832 (+/-0.011) for {'criterion': 'gini', 'max_depth': 3, 'min_samples_leaf': 5}\n",
      "0.836 (+/-0.011) for {'criterion': 'gini', 'max_depth': 5, 'min_samples_leaf': 1}\n",
      "0.836 (+/-0.011) for {'criterion': 'gini', 'max_depth': 5, 'min_samples_leaf': 2}\n",
      "0.836 (+/-0.011) for {'criterion': 'gini', 'max_depth': 5, 'min_samples_leaf': 5}\n",
      "0.798 (+/-0.019) for {'criterion': 'entropy', 'max_depth': 1, 'min_samples_leaf': 1}\n",
      "0.798 (+/-0.019) for {'criterion': 'entropy', 'max_depth': 1, 'min_samples_leaf': 2}\n",
      "0.798 (+/-0.019) for {'criterion': 'entropy', 'max_depth': 1, 'min_samples_leaf': 5}\n",
      "0.775 (+/-0.027) for {'criterion': 'entropy', 'max_depth': 3, 'min_samples_leaf': 1}\n",
      "0.775 (+/-0.027) for {'criterion': 'entropy', 'max_depth': 3, 'min_samples_leaf': 2}\n",
      "0.775 (+/-0.027) for {'criterion': 'entropy', 'max_depth': 3, 'min_samples_leaf': 5}\n",
      "0.828 (+/-0.017) for {'criterion': 'entropy', 'max_depth': 5, 'min_samples_leaf': 1}\n",
      "0.828 (+/-0.017) for {'criterion': 'entropy', 'max_depth': 5, 'min_samples_leaf': 2}\n",
      "0.828 (+/-0.017) for {'criterion': 'entropy', 'max_depth': 5, 'min_samples_leaf': 5}\n",
      "()\n",
      "Detailed classification report:\n",
      "()\n",
      "The model is trained on the full development set.\n",
      "The scores are computed on the full evaluation set.\n",
      "()\n",
      "             precision    recall  f1-score   support\n",
      "\n",
      "          0       0.92      0.94      0.93     28061\n",
      "          1       0.80      0.74      0.77      9399\n",
      "\n",
      "avg / total       0.89      0.89      0.89     37460\n",
      "\n",
      "()\n"
     ]
    }
   ],
   "source": [
    "\n",
    "scores=['precision', 'recall']\n",
    "parameters = {'criterion':('gini', 'entropy'), 'max_depth':[1,3,5],'min_samples_leaf':[1,2,5]}\n",
    "model=tree.DecisionTreeClassifier()\n",
    "for score in scores:\n",
    "    print(\"# Tuning hyper-parameters for %s\" % score)\n",
    "    print()  #打印括号\n",
    "    \n",
    "    clf=GridSearchCV(model,parameters,cv=5,scoring='%s_macro' % score)\n",
    "    clf.fit(train,train_target)\n",
    "    \n",
    "    #打印最好的参数\n",
    "    print(\"Best parameters set found on development set:\")\n",
    "    print()\n",
    "    print(clf.best_params_)  \n",
    "\n",
    "\n",
    "    #\n",
    "    means = clf.cv_results_['mean_test_score']\n",
    "    stds = clf.cv_results_['std_test_score']\n",
    "    \n",
    "    for mean, std, params in zip(means, stds, clf.cv_results_['params']):\n",
    "        print(\"%0.3f (+/-%0.03f) for %r\"\n",
    "              % (mean, std * 2, params))\n",
    "    print()\n",
    "    \n",
    "    print(\"Detailed classification report:\")\n",
    "    print()\n",
    "    print(\"The model is trained on the full development set.\")\n",
    "    print(\"The scores are computed on the full evaluation set.\")\n",
    "    print()\n",
    "    \n",
    "    #打印在测试数据集中的预测结果。\n",
    "    y_true, y_pred = test_target,clf.predict(test)\n",
    "    print(classification_report(y_true, y_pred))\n",
    "    print()\n"
   ]
  },
  {
   "cell_type": "code",
   "execution_count": null,
   "metadata": {
    "collapsed": true
   },
   "outputs": [],
   "source": []
  }
 ],
 "metadata": {
  "kernelspec": {
   "display_name": "Python [default]",
   "language": "python",
   "name": "python2"
  },
  "language_info": {
   "codemirror_mode": {
    "name": "ipython",
    "version": 2
   },
   "file_extension": ".py",
   "mimetype": "text/x-python",
   "name": "python",
   "nbconvert_exporter": "python",
   "pygments_lexer": "ipython2",
   "version": "2.7.12"
  }
 },
 "nbformat": 4,
 "nbformat_minor": 1
}
