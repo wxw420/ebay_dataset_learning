{
 "cells": [
  {
   "cell_type": "code",
   "execution_count": 3,
   "metadata": {
    "collapsed": false,
    "scrolled": true
   },
   "outputs": [],
   "source": [
    "import pandas as pd\n",
    "from pandas import DataFrame\n",
    "import numpy as np\n",
    "import matplotlib.pyplot as plt\n"
   ]
  },
  {
   "cell_type": "code",
   "execution_count": 4,
   "metadata": {
    "collapsed": false
   },
   "outputs": [],
   "source": [
    "test_set = pd.read_csv('raw/TestSet.csv')\n",
    "train_set = pd.read_csv('raw/TrainingSet.csv')\n",
    "test_subset = pd.read_csv('raw/TestSubset.csv')\n",
    "train_subset = pd.read_csv('raw/TrainingSubset.csv')"
   ]
  },
  {
   "cell_type": "code",
   "execution_count": 5,
   "metadata": {
    "collapsed": false
   },
   "outputs": [
    {
     "name": "stdout",
     "output_type": "stream",
     "text": [
      "<class 'pandas.core.frame.DataFrame'>\n",
      "RangeIndex: 258588 entries, 0 to 258587\n",
      "Data columns (total 28 columns):\n",
      "EbayID                     258588 non-null float64\n",
      "QuantitySold               258588 non-null int64\n",
      "Price                      258588 non-null float64\n",
      "PricePercent               258588 non-null float64\n",
      "StartingBidPercent         258588 non-null float64\n",
      "SellerName                 258588 non-null object\n",
      "SellerClosePercent         258588 non-null float64\n",
      "Category                   258588 non-null int64\n",
      "PersonID                   258588 non-null int64\n",
      "StartingBid                258588 non-null float64\n",
      "AvgPrice                   258588 non-null float64\n",
      "EndDay                     258588 non-null int64\n",
      "HitCount                   258588 non-null int64\n",
      "AuctionAvgHitCount         258588 non-null int64\n",
      "ItemAuctionSellPercent     258588 non-null int64\n",
      "SellerSaleAvgPriceRatio    258588 non-null float64\n",
      "SellerAvg                  258588 non-null float64\n",
      "SellerItemAvg              258588 non-null int64\n",
      "AuctionHitCountAvgRatio    258588 non-null int64\n",
      "BestOffer                  258588 non-null float64\n",
      "ReturnsAccepted            258588 non-null int64\n",
      "IsHOF                      258588 non-null int64\n",
      "ItemListedCount            258588 non-null int64\n",
      "AuctionCount               258588 non-null int64\n",
      "AuctionSaleCount           258588 non-null int64\n",
      "SellerAuctionCount         258588 non-null int64\n",
      "SellerAuctionSaleCount     258588 non-null int64\n",
      "AuctionMedianPrice         258588 non-null float64\n",
      "dtypes: float64(11), int64(16), object(1)\n",
      "memory usage: 55.2+ MB\n"
     ]
    }
   ],
   "source": [
    "train_set.info()"
   ]
  },
  {
   "cell_type": "code",
   "execution_count": 6,
   "metadata": {
    "collapsed": false
   },
   "outputs": [
    {
     "name": "stdout",
     "output_type": "stream",
     "text": [
      "(258588, 28)\n"
     ]
    }
   ],
   "source": [
    "print(train_set.shape)"
   ]
  },
  {
   "cell_type": "code",
   "execution_count": 7,
   "metadata": {
    "collapsed": false,
    "scrolled": true
   },
   "outputs": [
    {
     "name": "stdout",
     "output_type": "stream",
     "text": [
      "         EbayID  QuantitySold  Price  PricePercent  StartingBidPercent  \\\n",
      "0  1.609830e+11             1  27.25        1.4787              0.0537   \n",
      "1  3.905500e+11             1  43.00        1.4422              0.3350   \n",
      "\n",
      "   SellerName  SellerClosePercent  Category  PersonID  StartingBid  \\\n",
      "0   petesandi            0.925926     73396      9174         0.99   \n",
      "1  graphn4fun            0.990566     27278     11046         9.99   \n",
      "\n",
      "          ...          AuctionHitCountAvgRatio  BestOffer  ReturnsAccepted  \\\n",
      "0         ...                               29   1.540541                0   \n",
      "1         ...                               55   0.404762                0   \n",
      "\n",
      "   IsHOF  ItemListedCount  AuctionCount  AuctionSaleCount  SellerAuctionCount  \\\n",
      "0      1                1           583               291                  54   \n",
      "1      0                0           120                43                 106   \n",
      "\n",
      "   SellerAuctionSaleCount  AuctionMedianPrice  \n",
      "0                      50               12.26  \n",
      "1                     105               24.45  \n",
      "\n",
      "[2 rows x 28 columns]\n"
     ]
    }
   ],
   "source": [
    "print(train_set[:2])"
   ]
  },
  {
   "cell_type": "code",
   "execution_count": 8,
   "metadata": {
    "collapsed": false
   },
   "outputs": [],
   "source": [
    "train=train_set.drop(['EbayID','QuantitySold','SellerName'],axis=1)\n",
    "train_target=train_set['QuantitySold']"
   ]
  },
  {
   "cell_type": "code",
   "execution_count": 9,
   "metadata": {
    "collapsed": false
   },
   "outputs": [
    {
     "name": "stdout",
     "output_type": "stream",
     "text": [
      "(258588, 25)\n"
     ]
    }
   ],
   "source": [
    "print(train.shape)"
   ]
  },
  {
   "cell_type": "code",
   "execution_count": 10,
   "metadata": {
    "collapsed": false
   },
   "outputs": [
    {
     "name": "stdout",
     "output_type": "stream",
     "text": [
      "(258588,)\n"
     ]
    }
   ],
   "source": [
    "print(train_target.shape)"
   ]
  },
  {
   "cell_type": "code",
   "execution_count": 11,
   "metadata": {
    "collapsed": true
   },
   "outputs": [],
   "source": [
    "n_trainSamples, n_features = train.shape"
   ]
  },
  {
   "cell_type": "code",
   "execution_count": 12,
   "metadata": {
    "collapsed": true
   },
   "outputs": [],
   "source": [
    "from sklearn.linear_model import SGDClassifier\n",
    "from sklearn.preprocessing import StandardScaler\n",
    "from sklearn import decomposition"
   ]
  },
  {
   "cell_type": "code",
   "execution_count": 16,
   "metadata": {
    "collapsed": false
   },
   "outputs": [
    {
     "data": {
      "image/png": "[encoded data removed]",
      "text/plain": [
       "<matplotlib.figure.Figure at 0x112992a90>"
      ]
     },
     "metadata": {},
     "output_type": "display_data"
    }
   ],
   "source": [
    "def plot_learning(clf,title):\n",
    "\n",
    "    plt.figure()\n",
    "    # 记录上一次训练结果在本次batch上的预测情况\n",
    "    validationScore = []\n",
    "    # 记录加上本次batch训练结果后的预测情况\n",
    "    trainScore = []\n",
    "    # 最小训练批数\n",
    "    mini_batch = 1000\n",
    "    n_iter=1\n",
    "    for it in range(n_iter):\n",
    "        for idx in range(int(np.ceil(n_trainSamples / mini_batch))):\n",
    "            x_batch = train[idx * mini_batch: min((idx + 1) * mini_batch, n_trainSamples)]\n",
    "            y_batch = train_target[idx * mini_batch: min((idx + 1) * mini_batch, n_trainSamples)]\n",
    "\n",
    "            if idx > 0:\n",
    "                validationScore.append(clf.score(x_batch, y_batch))\n",
    "            clf.partial_fit(x_batch, y_batch, classes=range(5))\n",
    "            if idx > 0:\n",
    "                trainScore.append(clf.score(x_batch, y_batch))\n",
    "    plt.plot(trainScore, label=\"train score\")\n",
    "    plt.plot(validationScore, label=\"validation socre\")\n",
    "    plt.xlabel(\"Mini_batch\")\n",
    "    plt.ylabel(\"Score\")\n",
    "    plt.legend(loc='best')\n",
    "    plt.grid()\n",
    "    plt.title(title)\n",
    "\n",
    "# 对数据进行归一化\n",
    "scaler = StandardScaler()\n",
    "train = scaler.fit_transform(train)\n",
    "#PCA降维-影响性能\n",
    "#train=decomposition.TruncatedSVD(n_components=10).fit_transform(train)\n",
    "# 创建SGDClassifier\n",
    "clf = SGDClassifier(loss=\"hinge\",penalty='l1', alpha=0.01)\n",
    "plot_learning(clf,\"SGDClassifier\")\n",
    "\n",
    "plt.show()"
   ]
  },
  {
   "cell_type": "code",
   "execution_count": 17,
   "metadata": {
    "collapsed": false
   },
   "outputs": [
    {
     "name": "stdout",
     "output_type": "stream",
     "text": [
      "SGDClassifier training performance on testing dataset:\n",
      "\tPrecision: 0.845 \n",
      "\tRecall: 0.707\n",
      "\tF1: 0.770 \n",
      "\n"
     ]
    }
   ],
   "source": [
    "from sklearn.metrics import (precision_score, recall_score, f1_score)\n",
    "# 首先也是准备好测试数据，进行归一化处理\n",
    "test = test_set.drop(['EbayID','QuantitySold','SellerName'],axis=1)\n",
    "test_target = test_set['QuantitySold']\n",
    "test = scaler.fit_transform(test)\n",
    "#test=decomposition.TruncatedSVD(n_components=10).fit_transform(test)\n",
    "# 利用训练好的分类器进行预测\n",
    "test_pred = clf.predict(test) \n",
    "\n",
    "print(\"SGDClassifier training performance on testing dataset:\" )\n",
    "print(\"\\tPrecision: %1.3f \" % precision_score(test_target, test_pred))\n",
    "print(\"\\tRecall: %1.3f\" % recall_score(test_target, test_pred))\n",
    "print(\"\\tF1: %1.3f \\n\" % f1_score(test_target, test_pred))"
   ]
  },
  {
   "cell_type": "code",
   "execution_count": 18,
   "metadata": {
    "collapsed": false
   },
   "outputs": [
    {
     "data": {
      "text/plain": [
       "1.0"
      ]
     },
     "execution_count": 18,
     "metadata": {},
     "output_type": "execute_result"
    }
   ],
   "source": [
    "clf.score(test,test_pred)"
   ]
  },
  {
   "cell_type": "code",
   "execution_count": null,
   "metadata": {
    "collapsed": true
   },
   "outputs": [],
   "source": [
    "SGDClassifier training performance on testing dataset:\n",
    "\tPrecision: 0.821 \n",
    "\tRecall: 0.722\n",
    "\tF1: 0.768 "
   ]
  },
  {
   "cell_type": "code",
   "execution_count": 15,
   "metadata": {
    "collapsed": false
   },
   "outputs": [
    {
     "data": {
      "text/plain": [
       "258"
      ]
     },
     "execution_count": 15,
     "metadata": {},
     "output_type": "execute_result"
    }
   ],
   "source": [
    "258588/1000"
   ]
  },
  {
   "cell_type": "code",
   "execution_count": null,
   "metadata": {
    "collapsed": true
   },
   "outputs": [],
   "source": []
  }
 ],
 "metadata": {
  "anaconda-cloud": {},
  "kernelspec": {
   "display_name": "Python [default]",
   "language": "python",
   "name": "python2"
  },
  "language_info": {
   "codemirror_mode": {
    "name": "ipython",
    "version": 2
   },
   "file_extension": ".py",
   "mimetype": "text/x-python",
   "name": "python",
   "nbconvert_exporter": "python",
   "pygments_lexer": "ipython2",
   "version": "2.7.12"
  }
 },
 "nbformat": 4,
 "nbformat_minor": 1
}
