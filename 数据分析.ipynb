{
 "cells": [
  {
   "cell_type": "code",
   "execution_count": 13,
   "metadata": {
    "collapsed": true
   },
   "outputs": [],
   "source": [
    "import pandas as pd\n",
    "from pandas import DataFrame\n",
    "import numpy as np\n",
    "import matplotlib.pyplot as plt\n",
    "from sklearn.preprocessing import StandardScaler  #数据归一化模块"
   ]
  },
  {
   "cell_type": "code",
   "execution_count": 2,
   "metadata": {
    "collapsed": true
   },
   "outputs": [],
   "source": [
    "test_set = pd.read_csv('raw/TestSet.csv')\n",
    "train_set = pd.read_csv('raw/TrainingSet.csv')\n",
    "test_subset = pd.read_csv('raw/TestSubset.csv')\n",
    "train_subset = pd.read_csv('raw/TrainingSubset.csv')"
   ]
  },
  {
   "cell_type": "code",
   "execution_count": 3,
   "metadata": {
    "collapsed": false,
    "scrolled": true
   },
   "outputs": [
    {
     "name": "stdout",
     "output_type": "stream",
     "text": [
      "<class 'pandas.core.frame.DataFrame'>\n",
      "RangeIndex: 258588 entries, 0 to 258587\n",
      "Data columns (total 28 columns):\n",
      "EbayID                     258588 non-null float64\n",
      "QuantitySold               258588 non-null int64\n",
      "Price                      258588 non-null float64\n",
      "PricePercent               258588 non-null float64\n",
      "StartingBidPercent         258588 non-null float64\n",
      "SellerName                 258588 non-null object\n",
      "SellerClosePercent         258588 non-null float64\n",
      "Category                   258588 non-null int64\n",
      "PersonID                   258588 non-null int64\n",
      "StartingBid                258588 non-null float64\n",
      "AvgPrice                   258588 non-null float64\n",
      "EndDay                     258588 non-null int64\n",
      "HitCount                   258588 non-null int64\n",
      "AuctionAvgHitCount         258588 non-null int64\n",
      "ItemAuctionSellPercent     258588 non-null int64\n",
      "SellerSaleAvgPriceRatio    258588 non-null float64\n",
      "SellerAvg                  258588 non-null float64\n",
      "SellerItemAvg              258588 non-null int64\n",
      "AuctionHitCountAvgRatio    258588 non-null int64\n",
      "BestOffer                  258588 non-null float64\n",
      "ReturnsAccepted            258588 non-null int64\n",
      "IsHOF                      258588 non-null int64\n",
      "ItemListedCount            258588 non-null int64\n",
      "AuctionCount               258588 non-null int64\n",
      "AuctionSaleCount           258588 non-null int64\n",
      "SellerAuctionCount         258588 non-null int64\n",
      "SellerAuctionSaleCount     258588 non-null int64\n",
      "AuctionMedianPrice         258588 non-null float64\n",
      "dtypes: float64(11), int64(16), object(1)\n",
      "memory usage: 55.2+ MB\n"
     ]
    }
   ],
   "source": [
    "train_set.info()   #二十五万多条训练数据，每条数据有28列"
   ]
  },
  {
   "cell_type": "code",
   "execution_count": 10,
   "metadata": {
    "collapsed": false
   },
   "outputs": [
    {
     "name": "stdout",
     "output_type": "stream",
     "text": [
      "         EbayID  QuantitySold  Price  PricePercent  StartingBidPercent  \\\n",
      "0  1.609830e+11             1  27.25        1.4787              0.0537   \n",
      "\n",
      "  SellerName  SellerClosePercent  Category  PersonID  StartingBid  \\\n",
      "0  petesandi            0.925926     73396      9174         0.99   \n",
      "\n",
      "          ...          AuctionHitCountAvgRatio  BestOffer  ReturnsAccepted  \\\n",
      "0         ...                               29   1.540541                0   \n",
      "\n",
      "   IsHOF  ItemListedCount  AuctionCount  AuctionSaleCount  SellerAuctionCount  \\\n",
      "0      1                1           583               291                  54   \n",
      "\n",
      "   SellerAuctionSaleCount  AuctionMedianPrice  \n",
      "0                      50               12.26  \n",
      "\n",
      "[1 rows x 28 columns]\n"
     ]
    }
   ],
   "source": [
    "#读取训练数据前三条，观察，分析;数据详细的分析以及解释可以参考以下连接\n",
    "#https://www.shiyanlou.com/courses/714/labs/2376/document\n",
    "#http://jaygrossman.com/post/2013/06/10/Predicting-eBay-Auction-Sales-with-Machine-Learning.aspx\n",
    "print(train_set[:1])"
   ]
  },
  {
   "cell_type": "code",
   "execution_count": 14,
   "metadata": {
    "collapsed": false
   },
   "outputs": [],
   "source": [
    "#将数据中无用的特征和该数据的标签提取出来\n",
    "train=train_set.drop(['EbayID','QuantitySold','SellerName'],axis=1)\n",
    "train_target=train_set['QuantitySold']\n",
    "\n",
    "test = test_set.drop(['EbayID','QuantitySold','SellerName'],axis=1)\n",
    "test_target = test_set['QuantitySold']\n",
    "\n",
    "#将训练数据以及测试数据进行归一化\n",
    "scaler = StandardScaler()\n",
    "train = scaler.fit_transform(train)\n",
    "test = scaler.fit_transform(test)"
   ]
  },
  {
   "cell_type": "markdown",
   "metadata": {},
   "source": [
    " StandardScaler()根据训练数据，计算每一个特征的均值和方差，并保存起来；然后根据(x-均值)/标准差；将所有特征归一化成具有零均值，方差为1的分布；同时，在测试或者预测时，将测试数据根据训练数据的均值和方差，进行同样的归一化处理。保证格式一样\n",
    " 具体可参考： http://scikit-learn.org/stable/modules/generated/sklearn.preprocessing.StandardScaler.html\n",
    " \n",
    " >>> from sklearn.preprocessing import StandardScaler\n",
    ">>>\n",
    ">>> data = [[0, 0], [0, 0], [1, 1], [1, 1]]\n",
    ">>> scaler = StandardScaler()\n",
    ">>> print(scaler.fit(data))\n",
    "StandardScaler(copy=True, with_mean=True, with_std=True)\n",
    ">>> print(scaler.mean_)\n",
    "[ 0.5  0.5]\n",
    ">>> print(scaler.transform(data))\n",
    "[[-1. -1.]\n",
    " [-1. -1.]\n",
    " [ 1.  1.]\n",
    " [ 1.  1.]]\n",
    ">>> print(scaler.transform([[2, 2]]))\n",
    "[[ 3.  3.]]\n",
    " \n",
    " \n",
    " "
   ]
  },
  {
   "cell_type": "code",
   "execution_count": 24,
   "metadata": {
    "collapsed": false,
    "scrolled": true
   },
   "outputs": [
    {
     "name": "stdout",
     "output_type": "stream",
     "text": [
      "('test_set shape :', (37460, 28))\n",
      "('train_set shape :', (258588, 28))\n",
      "('test_subset shape :', (9392, 33))\n",
      "('train_subset shape :', (79732, 33))\n"
     ]
    }
   ],
   "source": [
    "print(\"test_set shape :\" , test_set.shape)\n",
    "print(\"train_set shape :\" , train_set.shape)\n",
    "print(\"test_subset shape :\" , test_subset.shape)\n",
    "print(\"train_subset shape :\" , train_subset.shape)"
   ]
  },
  {
   "cell_type": "markdown",
   "metadata": {},
   "source": [
    "    训练数据集中，有178833个为成功拍卖；79755个成功记录:2.242:1\n",
    "    precision    recall  f1-score   support\n",
    "\n",
    "          0       0.89      0.95      0.92    178833\n",
    "          1       0.86      0.73      0.79     79755\n",
    "\n",
    "avg / total       0.88      0.88      0.88    258588\n",
    "\n",
    "\n",
    "    测试数据集中，有28061个未拍卖成功；9399个成功记录:2.986:1\n",
    "    precision    recall  f1-score   support\n",
    "\n",
    "          0       0.92      0.94      0.93     28061\n",
    "          1       0.80      0.74      0.77      9399\n",
    "\n",
    "avg / total       0.89      0.89      0.89     37460\n"
   ]
  },
  {
   "cell_type": "code",
   "execution_count": 29,
   "metadata": {
    "collapsed": false
   },
   "outputs": [
    {
     "data": {
      "text/plain": [
       "2.9855303755718694"
      ]
     },
     "execution_count": 29,
     "metadata": {},
     "output_type": "execute_result"
    }
   ],
   "source": [
    "28061/9399."
   ]
  },
  {
   "cell_type": "code",
   "execution_count": 30,
   "metadata": {
    "collapsed": false
   },
   "outputs": [
    {
     "data": {
      "text/plain": [
       "2.242279480910288"
      ]
     },
     "execution_count": 30,
     "metadata": {},
     "output_type": "execute_result"
    }
   ],
   "source": [
    "178833/79755."
   ]
  },
  {
   "cell_type": "code",
   "execution_count": null,
   "metadata": {
    "collapsed": true
   },
   "outputs": [],
   "source": []
  }
 ],
 "metadata": {
  "kernelspec": {
   "display_name": "Python [default]",
   "language": "python",
   "name": "python2"
  },
  "language_info": {
   "codemirror_mode": {
    "name": "ipython",
    "version": 2
   },
   "file_extension": ".py",
   "mimetype": "text/x-python",
   "name": "python",
   "nbconvert_exporter": "python",
   "pygments_lexer": "ipython2",
   "version": "2.7.12"
  }
 },
 "nbformat": 4,
 "nbformat_minor": 1
}
